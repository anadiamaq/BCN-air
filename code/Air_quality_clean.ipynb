{
 "cells": [
  {
   "cell_type": "code",
   "execution_count": 1,
   "metadata": {},
   "outputs": [],
   "source": [
    "import pandas as pd\n",
    "air_q = pd.read_csv('../data/origin_datasets/air_quality_Nov2017.csv')"
   ]
  },
  {
   "cell_type": "code",
   "execution_count": 2,
   "metadata": {},
   "outputs": [
    {
     "data": {
      "text/html": [
       "<div>\n",
       "<style scoped>\n",
       "    .dataframe tbody tr th:only-of-type {\n",
       "        vertical-align: middle;\n",
       "    }\n",
       "\n",
       "    .dataframe tbody tr th {\n",
       "        vertical-align: top;\n",
       "    }\n",
       "\n",
       "    .dataframe thead th {\n",
       "        text-align: right;\n",
       "    }\n",
       "</style>\n",
       "<table border=\"1\" class=\"dataframe\">\n",
       "  <thead>\n",
       "    <tr style=\"text-align: right;\">\n",
       "      <th></th>\n",
       "      <th>Station</th>\n",
       "      <th>Air Quality</th>\n",
       "      <th>Longitude</th>\n",
       "      <th>Latitude</th>\n",
       "      <th>O3 Hour</th>\n",
       "      <th>O3 Quality</th>\n",
       "      <th>O3 Value</th>\n",
       "      <th>NO2 Hour</th>\n",
       "      <th>NO2 Quality</th>\n",
       "      <th>NO2 Value</th>\n",
       "      <th>PM10 Hour</th>\n",
       "      <th>PM10 Quality</th>\n",
       "      <th>PM10 Value</th>\n",
       "      <th>Generated</th>\n",
       "      <th>Date Time</th>\n",
       "    </tr>\n",
       "  </thead>\n",
       "  <tbody>\n",
       "    <tr>\n",
       "      <th>0</th>\n",
       "      <td>Barcelona - Sants</td>\n",
       "      <td>Good</td>\n",
       "      <td>2.1331</td>\n",
       "      <td>41.3788</td>\n",
       "      <td>NaN</td>\n",
       "      <td>NaN</td>\n",
       "      <td>NaN</td>\n",
       "      <td>0h</td>\n",
       "      <td>Good</td>\n",
       "      <td>84.0</td>\n",
       "      <td>NaN</td>\n",
       "      <td>NaN</td>\n",
       "      <td>NaN</td>\n",
       "      <td>01/11/2018 0:00</td>\n",
       "      <td>1541027104</td>\n",
       "    </tr>\n",
       "    <tr>\n",
       "      <th>1</th>\n",
       "      <td>Barcelona - Eixample</td>\n",
       "      <td>Moderate</td>\n",
       "      <td>2.1538</td>\n",
       "      <td>41.3853</td>\n",
       "      <td>0h</td>\n",
       "      <td>Good</td>\n",
       "      <td>1.0</td>\n",
       "      <td>0h</td>\n",
       "      <td>Moderate</td>\n",
       "      <td>113.0</td>\n",
       "      <td>0h</td>\n",
       "      <td>Good</td>\n",
       "      <td>36.0</td>\n",
       "      <td>01/11/2018 0:00</td>\n",
       "      <td>1541027104</td>\n",
       "    </tr>\n",
       "    <tr>\n",
       "      <th>2</th>\n",
       "      <td>Barcelona - Gràcia</td>\n",
       "      <td>Good</td>\n",
       "      <td>2.1534</td>\n",
       "      <td>41.3987</td>\n",
       "      <td>0h</td>\n",
       "      <td>Good</td>\n",
       "      <td>10.0</td>\n",
       "      <td>0h</td>\n",
       "      <td>Good</td>\n",
       "      <td>73.0</td>\n",
       "      <td>NaN</td>\n",
       "      <td>NaN</td>\n",
       "      <td>NaN</td>\n",
       "      <td>01/11/2018 0:00</td>\n",
       "      <td>1541027104</td>\n",
       "    </tr>\n",
       "    <tr>\n",
       "      <th>3</th>\n",
       "      <td>Barcelona - Ciutadella</td>\n",
       "      <td>Good</td>\n",
       "      <td>2.1874</td>\n",
       "      <td>41.3864</td>\n",
       "      <td>0h</td>\n",
       "      <td>Good</td>\n",
       "      <td>2.0</td>\n",
       "      <td>0h</td>\n",
       "      <td>Good</td>\n",
       "      <td>86.0</td>\n",
       "      <td>NaN</td>\n",
       "      <td>NaN</td>\n",
       "      <td>NaN</td>\n",
       "      <td>01/11/2018 0:00</td>\n",
       "      <td>1541027104</td>\n",
       "    </tr>\n",
       "    <tr>\n",
       "      <th>4</th>\n",
       "      <td>Barcelona - Vall Hebron</td>\n",
       "      <td>Good</td>\n",
       "      <td>2.1480</td>\n",
       "      <td>41.4261</td>\n",
       "      <td>0h</td>\n",
       "      <td>Good</td>\n",
       "      <td>7.0</td>\n",
       "      <td>0h</td>\n",
       "      <td>Good</td>\n",
       "      <td>69.0</td>\n",
       "      <td>NaN</td>\n",
       "      <td>NaN</td>\n",
       "      <td>NaN</td>\n",
       "      <td>01/11/2018 0:00</td>\n",
       "      <td>1541027104</td>\n",
       "    </tr>\n",
       "  </tbody>\n",
       "</table>\n",
       "</div>"
      ],
      "text/plain": [
       "                   Station Air Quality  Longitude  Latitude O3 Hour  \\\n",
       "0        Barcelona - Sants        Good     2.1331   41.3788     NaN   \n",
       "1     Barcelona - Eixample    Moderate     2.1538   41.3853      0h   \n",
       "2       Barcelona - Gràcia        Good     2.1534   41.3987      0h   \n",
       "3   Barcelona - Ciutadella        Good     2.1874   41.3864      0h   \n",
       "4  Barcelona - Vall Hebron        Good     2.1480   41.4261      0h   \n",
       "\n",
       "  O3 Quality  O3 Value NO2 Hour NO2 Quality  NO2 Value PM10 Hour PM10 Quality  \\\n",
       "0        NaN       NaN       0h        Good       84.0       NaN          NaN   \n",
       "1       Good       1.0       0h    Moderate      113.0        0h         Good   \n",
       "2       Good      10.0       0h        Good       73.0       NaN          NaN   \n",
       "3       Good       2.0       0h        Good       86.0       NaN          NaN   \n",
       "4       Good       7.0       0h        Good       69.0       NaN          NaN   \n",
       "\n",
       "   PM10 Value        Generated   Date Time  \n",
       "0         NaN  01/11/2018 0:00  1541027104  \n",
       "1        36.0  01/11/2018 0:00  1541027104  \n",
       "2         NaN  01/11/2018 0:00  1541027104  \n",
       "3         NaN  01/11/2018 0:00  1541027104  \n",
       "4         NaN  01/11/2018 0:00  1541027104  "
      ]
     },
     "execution_count": 2,
     "metadata": {},
     "output_type": "execute_result"
    }
   ],
   "source": [
    "air_q.head()"
   ]
  },
  {
   "cell_type": "code",
   "execution_count": 3,
   "metadata": {},
   "outputs": [
    {
     "data": {
      "text/plain": [
       "(5744, 15)"
      ]
     },
     "execution_count": 3,
     "metadata": {},
     "output_type": "execute_result"
    }
   ],
   "source": [
    "air_q.shape"
   ]
  },
  {
   "cell_type": "code",
   "execution_count": 4,
   "metadata": {},
   "outputs": [
    {
     "data": {
      "text/plain": [
       "False    5744\n",
       "dtype: int64"
      ]
     },
     "execution_count": 4,
     "metadata": {},
     "output_type": "execute_result"
    }
   ],
   "source": [
    "air_q.duplicated().value_counts()"
   ]
  },
  {
   "cell_type": "code",
   "execution_count": 5,
   "metadata": {},
   "outputs": [
    {
     "data": {
      "text/plain": [
       "Station            0\n",
       "Air Quality        0\n",
       "Longitude          0\n",
       "Latitude           0\n",
       "O3 Hour         1476\n",
       "O3 Quality      1476\n",
       "O3 Value        1643\n",
       "NO2 Hour          55\n",
       "NO2 Quality       55\n",
       "NO2 Value        284\n",
       "PM10 Hour       2022\n",
       "PM10 Quality    2022\n",
       "PM10 Value      2097\n",
       "Generated          0\n",
       "Date Time          0\n",
       "dtype: int64"
      ]
     },
     "execution_count": 5,
     "metadata": {},
     "output_type": "execute_result"
    }
   ],
   "source": [
    "air_q.isna().sum()"
   ]
  },
  {
   "cell_type": "code",
   "execution_count": 6,
   "metadata": {},
   "outputs": [
    {
     "data": {
      "text/plain": [
       "<AxesSubplot:>"
      ]
     },
     "execution_count": 6,
     "metadata": {},
     "output_type": "execute_result"
    },
    {
     "data": {
      "image/png": "[encoded data removed]",
      "text/plain": [
       "<Figure size 432x288 with 2 Axes>"
      ]
     },
     "metadata": {
      "needs_background": "light"
     },
     "output_type": "display_data"
    }
   ],
   "source": [
    "import seaborn as sns\n",
    "\n",
    "sns.heatmap(air_q.isnull())"
   ]
  },
  {
   "cell_type": "code",
   "execution_count": 7,
   "metadata": {},
   "outputs": [
    {
     "name": "stdout",
     "output_type": "stream",
     "text": [
      "<class 'pandas.core.frame.DataFrame'>\n",
      "RangeIndex: 5744 entries, 0 to 5743\n",
      "Data columns (total 15 columns):\n",
      " #   Column        Non-Null Count  Dtype  \n",
      "---  ------        --------------  -----  \n",
      " 0   Station       5744 non-null   object \n",
      " 1   Air Quality   5744 non-null   object \n",
      " 2   Longitude     5744 non-null   float64\n",
      " 3   Latitude      5744 non-null   float64\n",
      " 4   O3 Hour       4268 non-null   object \n",
      " 5   O3 Quality    4268 non-null   object \n",
      " 6   O3 Value      4101 non-null   float64\n",
      " 7   NO2 Hour      5689 non-null   object \n",
      " 8   NO2 Quality   5689 non-null   object \n",
      " 9   NO2 Value     5460 non-null   float64\n",
      " 10  PM10 Hour     3722 non-null   object \n",
      " 11  PM10 Quality  3722 non-null   object \n",
      " 12  PM10 Value    3647 non-null   float64\n",
      " 13  Generated     5744 non-null   object \n",
      " 14  Date Time     5744 non-null   int64  \n",
      "dtypes: float64(5), int64(1), object(9)\n",
      "memory usage: 673.2+ KB\n"
     ]
    }
   ],
   "source": [
    "air_q.info()"
   ]
  },
  {
   "cell_type": "code",
   "execution_count": 8,
   "metadata": {},
   "outputs": [
    {
     "data": {
      "text/html": [
       "<div>\n",
       "<style scoped>\n",
       "    .dataframe tbody tr th:only-of-type {\n",
       "        vertical-align: middle;\n",
       "    }\n",
       "\n",
       "    .dataframe tbody tr th {\n",
       "        vertical-align: top;\n",
       "    }\n",
       "\n",
       "    .dataframe thead th {\n",
       "        text-align: right;\n",
       "    }\n",
       "</style>\n",
       "<table border=\"1\" class=\"dataframe\">\n",
       "  <thead>\n",
       "    <tr style=\"text-align: right;\">\n",
       "      <th></th>\n",
       "      <th>Longitude</th>\n",
       "      <th>Latitude</th>\n",
       "      <th>O3 Value</th>\n",
       "      <th>NO2 Value</th>\n",
       "      <th>PM10 Value</th>\n",
       "      <th>Date Time</th>\n",
       "    </tr>\n",
       "  </thead>\n",
       "  <tbody>\n",
       "    <tr>\n",
       "      <th>count</th>\n",
       "      <td>5744.00000</td>\n",
       "      <td>5744.000000</td>\n",
       "      <td>4101.000000</td>\n",
       "      <td>5460.000000</td>\n",
       "      <td>3647.000000</td>\n",
       "      <td>5.744000e+03</td>\n",
       "    </tr>\n",
       "    <tr>\n",
       "      <th>mean</th>\n",
       "      <td>2.15240</td>\n",
       "      <td>13877.827714</td>\n",
       "      <td>34.082907</td>\n",
       "      <td>35.740293</td>\n",
       "      <td>16.590074</td>\n",
       "      <td>1.542323e+09</td>\n",
       "    </tr>\n",
       "    <tr>\n",
       "      <th>std</th>\n",
       "      <td>0.02859</td>\n",
       "      <td>74410.803168</td>\n",
       "      <td>22.960687</td>\n",
       "      <td>22.357262</td>\n",
       "      <td>8.065424</td>\n",
       "      <td>7.483961e+05</td>\n",
       "    </tr>\n",
       "    <tr>\n",
       "      <th>min</th>\n",
       "      <td>2.11510</td>\n",
       "      <td>41.378800</td>\n",
       "      <td>1.000000</td>\n",
       "      <td>1.000000</td>\n",
       "      <td>2.000000</td>\n",
       "      <td>1.541027e+09</td>\n",
       "    </tr>\n",
       "    <tr>\n",
       "      <th>25%</th>\n",
       "      <td>2.13080</td>\n",
       "      <td>41.386400</td>\n",
       "      <td>14.000000</td>\n",
       "      <td>17.000000</td>\n",
       "      <td>10.000000</td>\n",
       "      <td>1.541675e+09</td>\n",
       "    </tr>\n",
       "    <tr>\n",
       "      <th>50%</th>\n",
       "      <td>2.15070</td>\n",
       "      <td>41.398700</td>\n",
       "      <td>34.000000</td>\n",
       "      <td>33.000000</td>\n",
       "      <td>15.000000</td>\n",
       "      <td>1.542325e+09</td>\n",
       "    </tr>\n",
       "    <tr>\n",
       "      <th>75%</th>\n",
       "      <td>2.16220</td>\n",
       "      <td>41.418300</td>\n",
       "      <td>52.000000</td>\n",
       "      <td>52.000000</td>\n",
       "      <td>22.000000</td>\n",
       "      <td>1.542971e+09</td>\n",
       "    </tr>\n",
       "    <tr>\n",
       "      <th>max</th>\n",
       "      <td>2.20450</td>\n",
       "      <td>414261.000000</td>\n",
       "      <td>100.000000</td>\n",
       "      <td>117.000000</td>\n",
       "      <td>44.000000</td>\n",
       "      <td>1.543616e+09</td>\n",
       "    </tr>\n",
       "  </tbody>\n",
       "</table>\n",
       "</div>"
      ],
      "text/plain": [
       "        Longitude       Latitude     O3 Value    NO2 Value   PM10 Value  \\\n",
       "count  5744.00000    5744.000000  4101.000000  5460.000000  3647.000000   \n",
       "mean      2.15240   13877.827714    34.082907    35.740293    16.590074   \n",
       "std       0.02859   74410.803168    22.960687    22.357262     8.065424   \n",
       "min       2.11510      41.378800     1.000000     1.000000     2.000000   \n",
       "25%       2.13080      41.386400    14.000000    17.000000    10.000000   \n",
       "50%       2.15070      41.398700    34.000000    33.000000    15.000000   \n",
       "75%       2.16220      41.418300    52.000000    52.000000    22.000000   \n",
       "max       2.20450  414261.000000   100.000000   117.000000    44.000000   \n",
       "\n",
       "          Date Time  \n",
       "count  5.744000e+03  \n",
       "mean   1.542323e+09  \n",
       "std    7.483961e+05  \n",
       "min    1.541027e+09  \n",
       "25%    1.541675e+09  \n",
       "50%    1.542325e+09  \n",
       "75%    1.542971e+09  \n",
       "max    1.543616e+09  "
      ]
     },
     "execution_count": 8,
     "metadata": {},
     "output_type": "execute_result"
    }
   ],
   "source": [
    "air_q.describe()"
   ]
  },
  {
   "cell_type": "code",
   "execution_count": 9,
   "metadata": {},
   "outputs": [
    {
     "data": {
      "text/plain": [
       "array(['Barcelona - Sants', 'Barcelona - Eixample', 'Barcelona - Gràcia',\n",
       "       'Barcelona - Ciutadella', 'Barcelona - Vall Hebron',\n",
       "       'Barcelona - Palau Reial', 'Barcelona - Poblenou',\n",
       "       'Barcelona - Observ Fabra'], dtype=object)"
      ]
     },
     "execution_count": 9,
     "metadata": {},
     "output_type": "execute_result"
    }
   ],
   "source": [
    "air_q['Station'].unique()"
   ]
  },
  {
   "cell_type": "code",
   "execution_count": 10,
   "metadata": {},
   "outputs": [
    {
     "data": {
      "text/plain": [
       "0       34.0\n",
       "1        1.0\n",
       "2       10.0\n",
       "3        2.0\n",
       "4        7.0\n",
       "        ... \n",
       "5739    10.0\n",
       "5740    32.0\n",
       "5741    40.0\n",
       "5742    34.0\n",
       "5743    64.0\n",
       "Name: O3 Value, Length: 5744, dtype: float64"
      ]
     },
     "execution_count": 10,
     "metadata": {},
     "output_type": "execute_result"
    }
   ],
   "source": [
    "air_q['O3 Value'].fillna(34, inplace=True)\n",
    "air_q['O3 Value']"
   ]
  },
  {
   "cell_type": "code",
   "execution_count": 11,
   "metadata": {},
   "outputs": [
    {
     "data": {
      "text/plain": [
       "0        84.0\n",
       "1       113.0\n",
       "2        73.0\n",
       "3        86.0\n",
       "4        69.0\n",
       "        ...  \n",
       "5739     57.0\n",
       "5740     31.0\n",
       "5741     20.0\n",
       "5742     70.0\n",
       "5743     21.0\n",
       "Name: NO2 Value, Length: 5744, dtype: float64"
      ]
     },
     "execution_count": 11,
     "metadata": {},
     "output_type": "execute_result"
    }
   ],
   "source": [
    "air_q['NO2 Value'].fillna(36, inplace=True)\n",
    "air_q['NO2 Value']"
   ]
  },
  {
   "cell_type": "code",
   "execution_count": 12,
   "metadata": {},
   "outputs": [
    {
     "data": {
      "text/plain": [
       "0       17.0\n",
       "1       36.0\n",
       "2       17.0\n",
       "3       17.0\n",
       "4       17.0\n",
       "        ... \n",
       "5739    17.0\n",
       "5740    21.0\n",
       "5741    15.0\n",
       "5742    25.0\n",
       "5743    12.0\n",
       "Name: PM10 Value, Length: 5744, dtype: float64"
      ]
     },
     "execution_count": 12,
     "metadata": {},
     "output_type": "execute_result"
    }
   ],
   "source": [
    "air_q['PM10 Value'].fillna(17, inplace=True)\n",
    "air_q['PM10 Value']"
   ]
  },
  {
   "cell_type": "code",
   "execution_count": 13,
   "metadata": {},
   "outputs": [
    {
     "data": {
      "text/plain": [
       "0       Good\n",
       "1       Good\n",
       "2       Good\n",
       "3       Good\n",
       "4       Good\n",
       "        ... \n",
       "5739    Good\n",
       "5740    Good\n",
       "5741    Good\n",
       "5742    Good\n",
       "5743    Good\n",
       "Name: O3 Quality, Length: 5744, dtype: object"
      ]
     },
     "execution_count": 13,
     "metadata": {},
     "output_type": "execute_result"
    }
   ],
   "source": [
    "import numpy as np\n",
    "air_q['O3 Quality'] = np.where(air_q['O3 Value'] >= 100, 'Moderate', 'Good')\n",
    "air_q['O3 Quality']"
   ]
  },
  {
   "cell_type": "code",
   "execution_count": 14,
   "metadata": {},
   "outputs": [
    {
     "data": {
      "text/plain": [
       "0           Good\n",
       "1       Moderate\n",
       "2           Good\n",
       "3           Good\n",
       "4           Good\n",
       "          ...   \n",
       "5739        Good\n",
       "5740        Good\n",
       "5741        Good\n",
       "5742        Good\n",
       "5743        Good\n",
       "Name: NO2 Quality, Length: 5744, dtype: object"
      ]
     },
     "execution_count": 14,
     "metadata": {},
     "output_type": "execute_result"
    }
   ],
   "source": [
    "air_q['NO2 Quality'] = np.where(air_q['NO2 Value'] >= 100, 'Moderate', 'Good')\n",
    "air_q['NO2 Quality']"
   ]
  },
  {
   "cell_type": "code",
   "execution_count": 15,
   "metadata": {},
   "outputs": [
    {
     "data": {
      "text/plain": [
       "0           Good\n",
       "1       Moderate\n",
       "2           Good\n",
       "3           Good\n",
       "4           Good\n",
       "          ...   \n",
       "5739        Good\n",
       "5740        Good\n",
       "5741        Good\n",
       "5742        Good\n",
       "5743        Good\n",
       "Name: PM10 Quality, Length: 5744, dtype: object"
      ]
     },
     "execution_count": 15,
     "metadata": {},
     "output_type": "execute_result"
    }
   ],
   "source": [
    "air_q['PM10 Quality'] = np.where(air_q['PM10 Value'] >= 35, 'Moderate', 'Good')\n",
    "air_q['PM10 Quality']"
   ]
  },
  {
   "cell_type": "code",
   "execution_count": 16,
   "metadata": {},
   "outputs": [
    {
     "data": {
      "text/plain": [
       "array(['Good', 'Moderate'], dtype=object)"
      ]
     },
     "execution_count": 16,
     "metadata": {},
     "output_type": "execute_result"
    }
   ],
   "source": [
    "air_q['Air Quality'] = np.where(air_q['PM10 Quality']=='Moderate', 'Moderate', 'Good')\n",
    "air_q['Air Quality'] = np.where(air_q['PM10 Quality']=='Good', 'Good', 'Moderate')\n",
    "air_q['Air Quality'].unique()"
   ]
  },
  {
   "cell_type": "code",
   "execution_count": 17,
   "metadata": {},
   "outputs": [
    {
     "data": {
      "text/html": [
       "<div>\n",
       "<style scoped>\n",
       "    .dataframe tbody tr th:only-of-type {\n",
       "        vertical-align: middle;\n",
       "    }\n",
       "\n",
       "    .dataframe tbody tr th {\n",
       "        vertical-align: top;\n",
       "    }\n",
       "\n",
       "    .dataframe thead th {\n",
       "        text-align: right;\n",
       "    }\n",
       "</style>\n",
       "<table border=\"1\" class=\"dataframe\">\n",
       "  <thead>\n",
       "    <tr style=\"text-align: right;\">\n",
       "      <th></th>\n",
       "      <th>Station</th>\n",
       "      <th>Air Quality</th>\n",
       "      <th>Longitude</th>\n",
       "      <th>Latitude</th>\n",
       "      <th>O3 Quality</th>\n",
       "      <th>O3 Value</th>\n",
       "      <th>NO2 Quality</th>\n",
       "      <th>NO2 Value</th>\n",
       "      <th>PM10 Quality</th>\n",
       "      <th>PM10 Value</th>\n",
       "      <th>Generated</th>\n",
       "    </tr>\n",
       "  </thead>\n",
       "  <tbody>\n",
       "    <tr>\n",
       "      <th>0</th>\n",
       "      <td>Barcelona - Sants</td>\n",
       "      <td>Good</td>\n",
       "      <td>2.1331</td>\n",
       "      <td>41.3788</td>\n",
       "      <td>Good</td>\n",
       "      <td>34.0</td>\n",
       "      <td>Good</td>\n",
       "      <td>84.0</td>\n",
       "      <td>Good</td>\n",
       "      <td>17.0</td>\n",
       "      <td>01/11/2018 0:00</td>\n",
       "    </tr>\n",
       "    <tr>\n",
       "      <th>1</th>\n",
       "      <td>Barcelona - Eixample</td>\n",
       "      <td>Moderate</td>\n",
       "      <td>2.1538</td>\n",
       "      <td>41.3853</td>\n",
       "      <td>Good</td>\n",
       "      <td>1.0</td>\n",
       "      <td>Moderate</td>\n",
       "      <td>113.0</td>\n",
       "      <td>Moderate</td>\n",
       "      <td>36.0</td>\n",
       "      <td>01/11/2018 0:00</td>\n",
       "    </tr>\n",
       "    <tr>\n",
       "      <th>2</th>\n",
       "      <td>Barcelona - Gràcia</td>\n",
       "      <td>Good</td>\n",
       "      <td>2.1534</td>\n",
       "      <td>41.3987</td>\n",
       "      <td>Good</td>\n",
       "      <td>10.0</td>\n",
       "      <td>Good</td>\n",
       "      <td>73.0</td>\n",
       "      <td>Good</td>\n",
       "      <td>17.0</td>\n",
       "      <td>01/11/2018 0:00</td>\n",
       "    </tr>\n",
       "    <tr>\n",
       "      <th>3</th>\n",
       "      <td>Barcelona - Ciutadella</td>\n",
       "      <td>Good</td>\n",
       "      <td>2.1874</td>\n",
       "      <td>41.3864</td>\n",
       "      <td>Good</td>\n",
       "      <td>2.0</td>\n",
       "      <td>Good</td>\n",
       "      <td>86.0</td>\n",
       "      <td>Good</td>\n",
       "      <td>17.0</td>\n",
       "      <td>01/11/2018 0:00</td>\n",
       "    </tr>\n",
       "    <tr>\n",
       "      <th>4</th>\n",
       "      <td>Barcelona - Vall Hebron</td>\n",
       "      <td>Good</td>\n",
       "      <td>2.1480</td>\n",
       "      <td>41.4261</td>\n",
       "      <td>Good</td>\n",
       "      <td>7.0</td>\n",
       "      <td>Good</td>\n",
       "      <td>69.0</td>\n",
       "      <td>Good</td>\n",
       "      <td>17.0</td>\n",
       "      <td>01/11/2018 0:00</td>\n",
       "    </tr>\n",
       "    <tr>\n",
       "      <th>...</th>\n",
       "      <td>...</td>\n",
       "      <td>...</td>\n",
       "      <td>...</td>\n",
       "      <td>...</td>\n",
       "      <td>...</td>\n",
       "      <td>...</td>\n",
       "      <td>...</td>\n",
       "      <td>...</td>\n",
       "      <td>...</td>\n",
       "      <td>...</td>\n",
       "      <td>...</td>\n",
       "    </tr>\n",
       "    <tr>\n",
       "      <th>5739</th>\n",
       "      <td>Barcelona - Ciutadella</td>\n",
       "      <td>Good</td>\n",
       "      <td>2.1874</td>\n",
       "      <td>41.3864</td>\n",
       "      <td>Good</td>\n",
       "      <td>10.0</td>\n",
       "      <td>Good</td>\n",
       "      <td>57.0</td>\n",
       "      <td>Good</td>\n",
       "      <td>17.0</td>\n",
       "      <td>30/11/2018 23:00</td>\n",
       "    </tr>\n",
       "    <tr>\n",
       "      <th>5740</th>\n",
       "      <td>Barcelona - Vall Hebron</td>\n",
       "      <td>Good</td>\n",
       "      <td>2.1480</td>\n",
       "      <td>41.4261</td>\n",
       "      <td>Good</td>\n",
       "      <td>32.0</td>\n",
       "      <td>Good</td>\n",
       "      <td>31.0</td>\n",
       "      <td>Good</td>\n",
       "      <td>21.0</td>\n",
       "      <td>30/11/2018 23:00</td>\n",
       "    </tr>\n",
       "    <tr>\n",
       "      <th>5741</th>\n",
       "      <td>Barcelona - Palau Reial</td>\n",
       "      <td>Good</td>\n",
       "      <td>2.1151</td>\n",
       "      <td>41.3875</td>\n",
       "      <td>Good</td>\n",
       "      <td>40.0</td>\n",
       "      <td>Good</td>\n",
       "      <td>20.0</td>\n",
       "      <td>Good</td>\n",
       "      <td>15.0</td>\n",
       "      <td>30/11/2018 23:00</td>\n",
       "    </tr>\n",
       "    <tr>\n",
       "      <th>5742</th>\n",
       "      <td>Barcelona - Poblenou</td>\n",
       "      <td>Good</td>\n",
       "      <td>2.2045</td>\n",
       "      <td>41.4039</td>\n",
       "      <td>Good</td>\n",
       "      <td>34.0</td>\n",
       "      <td>Good</td>\n",
       "      <td>70.0</td>\n",
       "      <td>Good</td>\n",
       "      <td>25.0</td>\n",
       "      <td>30/11/2018 23:00</td>\n",
       "    </tr>\n",
       "    <tr>\n",
       "      <th>5743</th>\n",
       "      <td>Barcelona - Observ Fabra</td>\n",
       "      <td>Good</td>\n",
       "      <td>2.1239</td>\n",
       "      <td>41.4183</td>\n",
       "      <td>Good</td>\n",
       "      <td>64.0</td>\n",
       "      <td>Good</td>\n",
       "      <td>21.0</td>\n",
       "      <td>Good</td>\n",
       "      <td>12.0</td>\n",
       "      <td>30/11/2018 23:00</td>\n",
       "    </tr>\n",
       "  </tbody>\n",
       "</table>\n",
       "<p>5744 rows × 11 columns</p>\n",
       "</div>"
      ],
      "text/plain": [
       "                       Station Air Quality  Longitude  Latitude O3 Quality  \\\n",
       "0            Barcelona - Sants        Good     2.1331   41.3788       Good   \n",
       "1         Barcelona - Eixample    Moderate     2.1538   41.3853       Good   \n",
       "2           Barcelona - Gràcia        Good     2.1534   41.3987       Good   \n",
       "3       Barcelona - Ciutadella        Good     2.1874   41.3864       Good   \n",
       "4      Barcelona - Vall Hebron        Good     2.1480   41.4261       Good   \n",
       "...                        ...         ...        ...       ...        ...   \n",
       "5739    Barcelona - Ciutadella        Good     2.1874   41.3864       Good   \n",
       "5740   Barcelona - Vall Hebron        Good     2.1480   41.4261       Good   \n",
       "5741   Barcelona - Palau Reial        Good     2.1151   41.3875       Good   \n",
       "5742      Barcelona - Poblenou        Good     2.2045   41.4039       Good   \n",
       "5743  Barcelona - Observ Fabra        Good     2.1239   41.4183       Good   \n",
       "\n",
       "      O3 Value NO2 Quality  NO2 Value PM10 Quality  PM10 Value  \\\n",
       "0         34.0        Good       84.0         Good        17.0   \n",
       "1          1.0    Moderate      113.0     Moderate        36.0   \n",
       "2         10.0        Good       73.0         Good        17.0   \n",
       "3          2.0        Good       86.0         Good        17.0   \n",
       "4          7.0        Good       69.0         Good        17.0   \n",
       "...        ...         ...        ...          ...         ...   \n",
       "5739      10.0        Good       57.0         Good        17.0   \n",
       "5740      32.0        Good       31.0         Good        21.0   \n",
       "5741      40.0        Good       20.0         Good        15.0   \n",
       "5742      34.0        Good       70.0         Good        25.0   \n",
       "5743      64.0        Good       21.0         Good        12.0   \n",
       "\n",
       "             Generated  \n",
       "0      01/11/2018 0:00  \n",
       "1      01/11/2018 0:00  \n",
       "2      01/11/2018 0:00  \n",
       "3      01/11/2018 0:00  \n",
       "4      01/11/2018 0:00  \n",
       "...                ...  \n",
       "5739  30/11/2018 23:00  \n",
       "5740  30/11/2018 23:00  \n",
       "5741  30/11/2018 23:00  \n",
       "5742  30/11/2018 23:00  \n",
       "5743  30/11/2018 23:00  \n",
       "\n",
       "[5744 rows x 11 columns]"
      ]
     },
     "execution_count": 17,
     "metadata": {},
     "output_type": "execute_result"
    }
   ],
   "source": [
    "air_q=air_q.drop(['Date Time'], axis=1)\n",
    "air_q=air_q.drop(['PM10 Hour'], axis=1)\n",
    "air_q=air_q.drop(['NO2 Hour'], axis=1)\n",
    "air_q=air_q.drop(['O3 Hour'], axis=1)\n",
    "air_q"
   ]
  },
  {
   "cell_type": "code",
   "execution_count": 19,
   "metadata": {},
   "outputs": [
    {
     "data": {
      "text/html": [
       "<div>\n",
       "<style scoped>\n",
       "    .dataframe tbody tr th:only-of-type {\n",
       "        vertical-align: middle;\n",
       "    }\n",
       "\n",
       "    .dataframe tbody tr th {\n",
       "        vertical-align: top;\n",
       "    }\n",
       "\n",
       "    .dataframe thead th {\n",
       "        text-align: right;\n",
       "    }\n",
       "</style>\n",
       "<table border=\"1\" class=\"dataframe\">\n",
       "  <thead>\n",
       "    <tr style=\"text-align: right;\">\n",
       "      <th></th>\n",
       "      <th>Station</th>\n",
       "      <th>Air_Quality</th>\n",
       "      <th>Longitude</th>\n",
       "      <th>Latitude</th>\n",
       "      <th>O3_Quality</th>\n",
       "      <th>O3_Value</th>\n",
       "      <th>NO2_Quality</th>\n",
       "      <th>NO2_Value</th>\n",
       "      <th>PM10_Quality</th>\n",
       "      <th>PM10_Value</th>\n",
       "      <th>Date</th>\n",
       "    </tr>\n",
       "  </thead>\n",
       "  <tbody>\n",
       "    <tr>\n",
       "      <th>0</th>\n",
       "      <td>Barcelona - Sants</td>\n",
       "      <td>Good</td>\n",
       "      <td>2.1331</td>\n",
       "      <td>41.3788</td>\n",
       "      <td>Good</td>\n",
       "      <td>34.0</td>\n",
       "      <td>Good</td>\n",
       "      <td>84.0</td>\n",
       "      <td>Good</td>\n",
       "      <td>17.0</td>\n",
       "      <td>01/11/2018 0:00</td>\n",
       "    </tr>\n",
       "    <tr>\n",
       "      <th>1</th>\n",
       "      <td>Barcelona - Eixample</td>\n",
       "      <td>Moderate</td>\n",
       "      <td>2.1538</td>\n",
       "      <td>41.3853</td>\n",
       "      <td>Good</td>\n",
       "      <td>1.0</td>\n",
       "      <td>Moderate</td>\n",
       "      <td>113.0</td>\n",
       "      <td>Moderate</td>\n",
       "      <td>36.0</td>\n",
       "      <td>01/11/2018 0:00</td>\n",
       "    </tr>\n",
       "    <tr>\n",
       "      <th>2</th>\n",
       "      <td>Barcelona - Gràcia</td>\n",
       "      <td>Good</td>\n",
       "      <td>2.1534</td>\n",
       "      <td>41.3987</td>\n",
       "      <td>Good</td>\n",
       "      <td>10.0</td>\n",
       "      <td>Good</td>\n",
       "      <td>73.0</td>\n",
       "      <td>Good</td>\n",
       "      <td>17.0</td>\n",
       "      <td>01/11/2018 0:00</td>\n",
       "    </tr>\n",
       "    <tr>\n",
       "      <th>3</th>\n",
       "      <td>Barcelona - Ciutadella</td>\n",
       "      <td>Good</td>\n",
       "      <td>2.1874</td>\n",
       "      <td>41.3864</td>\n",
       "      <td>Good</td>\n",
       "      <td>2.0</td>\n",
       "      <td>Good</td>\n",
       "      <td>86.0</td>\n",
       "      <td>Good</td>\n",
       "      <td>17.0</td>\n",
       "      <td>01/11/2018 0:00</td>\n",
       "    </tr>\n",
       "    <tr>\n",
       "      <th>4</th>\n",
       "      <td>Barcelona - Vall Hebron</td>\n",
       "      <td>Good</td>\n",
       "      <td>2.1480</td>\n",
       "      <td>41.4261</td>\n",
       "      <td>Good</td>\n",
       "      <td>7.0</td>\n",
       "      <td>Good</td>\n",
       "      <td>69.0</td>\n",
       "      <td>Good</td>\n",
       "      <td>17.0</td>\n",
       "      <td>01/11/2018 0:00</td>\n",
       "    </tr>\n",
       "  </tbody>\n",
       "</table>\n",
       "</div>"
      ],
      "text/plain": [
       "                   Station Air_Quality  Longitude  Latitude O3_Quality  \\\n",
       "0        Barcelona - Sants        Good     2.1331   41.3788       Good   \n",
       "1     Barcelona - Eixample    Moderate     2.1538   41.3853       Good   \n",
       "2       Barcelona - Gràcia        Good     2.1534   41.3987       Good   \n",
       "3   Barcelona - Ciutadella        Good     2.1874   41.3864       Good   \n",
       "4  Barcelona - Vall Hebron        Good     2.1480   41.4261       Good   \n",
       "\n",
       "   O3_Value NO2_Quality  NO2_Value PM10_Quality  PM10_Value             Date  \n",
       "0      34.0        Good       84.0         Good        17.0  01/11/2018 0:00  \n",
       "1       1.0    Moderate      113.0     Moderate        36.0  01/11/2018 0:00  \n",
       "2      10.0        Good       73.0         Good        17.0  01/11/2018 0:00  \n",
       "3       2.0        Good       86.0         Good        17.0  01/11/2018 0:00  \n",
       "4       7.0        Good       69.0         Good        17.0  01/11/2018 0:00  "
      ]
     },
     "execution_count": 19,
     "metadata": {},
     "output_type": "execute_result"
    }
   ],
   "source": [
    "air_q.columns = ['Station','Air_Quality', 'Longitude', 'Latitude', 'O3_Quality',\n",
    "       'O3_Value', 'NO2_Quality', 'NO2_Value', 'PM10_Quality', 'PM10_Value',\n",
    "       'Date']\n",
    "air_q.head()"
   ]
  },
  {
   "cell_type": "code",
   "execution_count": 20,
   "metadata": {},
   "outputs": [],
   "source": [
    "air_q.to_csv('Air_QA_Final.csv', header=True, index=False)"
   ]
  },
  {
   "cell_type": "code",
   "execution_count": null,
   "metadata": {},
   "outputs": [],
   "source": []
  }
 ],
 "metadata": {
  "kernelspec": {
   "display_name": "Python 3",
   "language": "python",
   "name": "python3"
  },
  "language_info": {
   "codemirror_mode": {
    "name": "ipython",
    "version": 3
   },
   "file_extension": ".py",
   "mimetype": "text/x-python",
   "name": "python",
   "nbconvert_exporter": "python",
   "pygments_lexer": "ipython3",
   "version": "3.9.1"
  }
 },
 "nbformat": 4,
 "nbformat_minor": 4
}
