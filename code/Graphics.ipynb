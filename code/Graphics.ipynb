{
 "cells": [
  {
   "cell_type": "code",
   "execution_count": 1,
   "metadata": {},
   "outputs": [
    {
     "name": "stdout",
     "output_type": "stream",
     "text": [
      "The history saving thread hit an unexpected error (OperationalError('disk I/O error')).History will not be written to the database.\n"
     ]
    }
   ],
   "source": [
    "import pandas as pd\n",
    "air_q = pd.read_csv('../data/Air_QA_Final.csv')\n",
    "deaths = pd.read_csv('../data/death_by_district_18.csv')"
   ]
  },
  {
   "cell_type": "code",
   "execution_count": 2,
   "metadata": {},
   "outputs": [
    {
     "data": {
      "text/html": [
       "<div>\n",
       "<style scoped>\n",
       "    .dataframe tbody tr th:only-of-type {\n",
       "        vertical-align: middle;\n",
       "    }\n",
       "\n",
       "    .dataframe tbody tr th {\n",
       "        vertical-align: top;\n",
       "    }\n",
       "\n",
       "    .dataframe thead th {\n",
       "        text-align: right;\n",
       "    }\n",
       "</style>\n",
       "<table border=\"1\" class=\"dataframe\">\n",
       "  <thead>\n",
       "    <tr style=\"text-align: right;\">\n",
       "      <th></th>\n",
       "      <th>Station</th>\n",
       "      <th>Air_Quality</th>\n",
       "      <th>Longitude</th>\n",
       "      <th>Latitude</th>\n",
       "      <th>O3_Quality</th>\n",
       "      <th>O3_Value</th>\n",
       "      <th>NO2_Quality</th>\n",
       "      <th>NO2_Value</th>\n",
       "      <th>PM10_Quality</th>\n",
       "      <th>PM10_Value</th>\n",
       "      <th>Date</th>\n",
       "    </tr>\n",
       "  </thead>\n",
       "  <tbody>\n",
       "    <tr>\n",
       "      <th>0</th>\n",
       "      <td>Barcelona - Sants</td>\n",
       "      <td>Good</td>\n",
       "      <td>2.1331</td>\n",
       "      <td>41.3788</td>\n",
       "      <td>Good</td>\n",
       "      <td>34.0</td>\n",
       "      <td>Good</td>\n",
       "      <td>84.0</td>\n",
       "      <td>Good</td>\n",
       "      <td>17.0</td>\n",
       "      <td>01/11/2018 0:00</td>\n",
       "    </tr>\n",
       "    <tr>\n",
       "      <th>1</th>\n",
       "      <td>Barcelona - Eixample</td>\n",
       "      <td>Moderate</td>\n",
       "      <td>2.1538</td>\n",
       "      <td>41.3853</td>\n",
       "      <td>Good</td>\n",
       "      <td>1.0</td>\n",
       "      <td>Moderate</td>\n",
       "      <td>113.0</td>\n",
       "      <td>Moderate</td>\n",
       "      <td>36.0</td>\n",
       "      <td>01/11/2018 0:00</td>\n",
       "    </tr>\n",
       "    <tr>\n",
       "      <th>2</th>\n",
       "      <td>Barcelona - Gràcia</td>\n",
       "      <td>Good</td>\n",
       "      <td>2.1534</td>\n",
       "      <td>41.3987</td>\n",
       "      <td>Good</td>\n",
       "      <td>10.0</td>\n",
       "      <td>Good</td>\n",
       "      <td>73.0</td>\n",
       "      <td>Good</td>\n",
       "      <td>17.0</td>\n",
       "      <td>01/11/2018 0:00</td>\n",
       "    </tr>\n",
       "    <tr>\n",
       "      <th>3</th>\n",
       "      <td>Barcelona - Ciutadella</td>\n",
       "      <td>Good</td>\n",
       "      <td>2.1874</td>\n",
       "      <td>41.3864</td>\n",
       "      <td>Good</td>\n",
       "      <td>2.0</td>\n",
       "      <td>Good</td>\n",
       "      <td>86.0</td>\n",
       "      <td>Good</td>\n",
       "      <td>17.0</td>\n",
       "      <td>01/11/2018 0:00</td>\n",
       "    </tr>\n",
       "    <tr>\n",
       "      <th>4</th>\n",
       "      <td>Barcelona - Vall Hebron</td>\n",
       "      <td>Good</td>\n",
       "      <td>2.1480</td>\n",
       "      <td>41.4261</td>\n",
       "      <td>Good</td>\n",
       "      <td>7.0</td>\n",
       "      <td>Good</td>\n",
       "      <td>69.0</td>\n",
       "      <td>Good</td>\n",
       "      <td>17.0</td>\n",
       "      <td>01/11/2018 0:00</td>\n",
       "    </tr>\n",
       "  </tbody>\n",
       "</table>\n",
       "</div>"
      ],
      "text/plain": [
       "                   Station Air_Quality  Longitude  Latitude O3_Quality  \\\n",
       "0        Barcelona - Sants        Good     2.1331   41.3788       Good   \n",
       "1     Barcelona - Eixample    Moderate     2.1538   41.3853       Good   \n",
       "2       Barcelona - Gràcia        Good     2.1534   41.3987       Good   \n",
       "3   Barcelona - Ciutadella        Good     2.1874   41.3864       Good   \n",
       "4  Barcelona - Vall Hebron        Good     2.1480   41.4261       Good   \n",
       "\n",
       "   O3_Value NO2_Quality  NO2_Value PM10_Quality  PM10_Value             Date  \n",
       "0      34.0        Good       84.0         Good        17.0  01/11/2018 0:00  \n",
       "1       1.0    Moderate      113.0     Moderate        36.0  01/11/2018 0:00  \n",
       "2      10.0        Good       73.0         Good        17.0  01/11/2018 0:00  \n",
       "3       2.0        Good       86.0         Good        17.0  01/11/2018 0:00  \n",
       "4       7.0        Good       69.0         Good        17.0  01/11/2018 0:00  "
      ]
     },
     "execution_count": 2,
     "metadata": {},
     "output_type": "execute_result"
    }
   ],
   "source": [
    "air_q.head()"
   ]
  },
  {
   "cell_type": "code",
   "execution_count": 3,
   "metadata": {},
   "outputs": [
    {
     "data": {
      "text/html": [
       "<div>\n",
       "<style scoped>\n",
       "    .dataframe tbody tr th:only-of-type {\n",
       "        vertical-align: middle;\n",
       "    }\n",
       "\n",
       "    .dataframe tbody tr th {\n",
       "        vertical-align: top;\n",
       "    }\n",
       "\n",
       "    .dataframe thead th {\n",
       "        text-align: right;\n",
       "    }\n",
       "</style>\n",
       "<table border=\"1\" class=\"dataframe\">\n",
       "  <thead>\n",
       "    <tr style=\"text-align: right;\">\n",
       "      <th></th>\n",
       "      <th>Districts</th>\n",
       "      <th>Total_deaths</th>\n",
       "      <th>Men</th>\n",
       "      <th>Women</th>\n",
       "    </tr>\n",
       "  </thead>\n",
       "  <tbody>\n",
       "    <tr>\n",
       "      <th>0</th>\n",
       "      <td>Barcelona - Ciutadella</td>\n",
       "      <td>708</td>\n",
       "      <td>347</td>\n",
       "      <td>361</td>\n",
       "    </tr>\n",
       "    <tr>\n",
       "      <th>1</th>\n",
       "      <td>Barcelona - Eixample</td>\n",
       "      <td>2669</td>\n",
       "      <td>1132</td>\n",
       "      <td>1537</td>\n",
       "    </tr>\n",
       "    <tr>\n",
       "      <th>2</th>\n",
       "      <td>Barcelona - Sants</td>\n",
       "      <td>1648</td>\n",
       "      <td>800</td>\n",
       "      <td>848</td>\n",
       "    </tr>\n",
       "    <tr>\n",
       "      <th>3</th>\n",
       "      <td>Barcelona - Palau Reial</td>\n",
       "      <td>763</td>\n",
       "      <td>357</td>\n",
       "      <td>406</td>\n",
       "    </tr>\n",
       "    <tr>\n",
       "      <th>4</th>\n",
       "      <td>Barcelona - Observ Fabra</td>\n",
       "      <td>1394</td>\n",
       "      <td>608</td>\n",
       "      <td>786</td>\n",
       "    </tr>\n",
       "  </tbody>\n",
       "</table>\n",
       "</div>"
      ],
      "text/plain": [
       "                  Districts  Total_deaths   Men  Women\n",
       "0    Barcelona - Ciutadella           708   347    361\n",
       "1      Barcelona - Eixample          2669  1132   1537\n",
       "2         Barcelona - Sants          1648   800    848\n",
       "3   Barcelona - Palau Reial           763   357    406\n",
       "4  Barcelona - Observ Fabra          1394   608    786"
      ]
     },
     "execution_count": 3,
     "metadata": {},
     "output_type": "execute_result"
    }
   ],
   "source": [
    "deaths.head()"
   ]
  },
  {
   "cell_type": "code",
   "execution_count": 4,
   "metadata": {},
   "outputs": [],
   "source": [
    "import matplotlib.pyplot as plt\n",
    "import seaborn as sns"
   ]
  },
  {
   "cell_type": "code",
   "execution_count": 6,
   "metadata": {},
   "outputs": [
    {
     "data": {
      "image/png": "[encoded data removed]",
      "text/plain": [
       "<Figure size 432x288 with 1 Axes>"
      ]
     },
     "metadata": {},
     "output_type": "display_data"
    }
   ],
   "source": [
    "sns.set_theme(style=\"whitegrid\")\n",
    "\n",
    "statios_air_q = sns.countplot(y=air_q['Station'], hue=air_q['Air_Quality'], palette=\"Blues_d\")"
   ]
  },
  {
   "cell_type": "code",
   "execution_count": 8,
   "metadata": {},
   "outputs": [
    {
     "data": {
      "image/png": "[encoded data removed]",
      "text/plain": [
       "<Figure size 432x288 with 1 Axes>"
      ]
     },
     "metadata": {},
     "output_type": "display_data"
    }
   ],
   "source": [
    "death_by_district=sns.barplot(x=deaths['Total_deaths'], y=deaths['Districts'])"
   ]
  },
  {
   "cell_type": "code",
   "execution_count": null,
   "metadata": {},
   "outputs": [],
   "source": []
  }
 ],
 "metadata": {
  "kernelspec": {
   "display_name": "Python 3",
   "language": "python",
   "name": "python3"
  },
  "language_info": {
   "codemirror_mode": {
    "name": "ipython",
    "version": 3
   },
   "file_extension": ".py",
   "mimetype": "text/x-python",
   "name": "python",
   "nbconvert_exporter": "python",
   "pygments_lexer": "ipython3",
   "version": "3.9.1"
  }
 },
 "nbformat": 4,
 "nbformat_minor": 4
}
